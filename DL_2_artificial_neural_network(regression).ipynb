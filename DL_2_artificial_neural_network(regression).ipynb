{
  "nbformat": 4,
  "nbformat_minor": 0,
  "metadata": {
    "colab": {
      "provenance": [],
      "include_colab_link": true
    },
    "kernelspec": {
      "name": "python3",
      "display_name": "Python 3"
    }
  },
  "cells": [
    {
      "cell_type": "markdown",
      "metadata": {
        "id": "view-in-github",
        "colab_type": "text"
      },
      "source": [
        "<a href=\"https://colab.research.google.com/github/Harshita0201/Machine_Learning/blob/main/DL_2_artificial_neural_network(regression).ipynb\" target=\"_parent\"><img src=\"https://colab.research.google.com/assets/colab-badge.svg\" alt=\"Open In Colab\"/></a>"
      ]
    },
    {
      "cell_type": "markdown",
      "metadata": {
        "id": "3cbb7fRy-eyr"
      },
      "source": [
        "# Artificial Neural Network"
      ]
    },
    {
      "cell_type": "markdown",
      "metadata": {
        "id": "8sNDnxE2-pwE"
      },
      "source": [
        "### Importing the libraries"
      ]
    },
    {
      "cell_type": "code",
      "source": [
        "import numpy as np\n",
        "import pandas as pd\n",
        "import tensorflow as tf"
      ],
      "metadata": {
        "id": "E6wXyeBpUAkt"
      },
      "execution_count": 3,
      "outputs": []
    },
    {
      "cell_type": "code",
      "source": [
        "tf.__version__"
      ],
      "metadata": {
        "colab": {
          "base_uri": "https://localhost:8080/",
          "height": 35
        },
        "id": "0PDWLXFLUG-j",
        "outputId": "235e492b-37a5-4aa2-8e4b-3d9902fb92ab"
      },
      "execution_count": 4,
      "outputs": [
        {
          "output_type": "execute_result",
          "data": {
            "text/plain": [
              "'2.12.0'"
            ],
            "application/vnd.google.colaboratory.intrinsic+json": {
              "type": "string"
            }
          },
          "metadata": {},
          "execution_count": 4
        }
      ]
    },
    {
      "cell_type": "markdown",
      "metadata": {
        "id": "AG3FQEch-yuA"
      },
      "source": [
        "## Part 1 - Data Preprocessing"
      ]
    },
    {
      "cell_type": "markdown",
      "metadata": {
        "id": "-4zq8Mza_D9O"
      },
      "source": [
        "### Importing the dataset"
      ]
    },
    {
      "cell_type": "code",
      "source": [
        "dataset = pd.read_excel('Folds5x2_pp.xlsx')\n",
        "X = dataset.iloc[:, :-1].values\n",
        "y = dataset.iloc[:, -1].values"
      ],
      "metadata": {
        "id": "8uFFqerYUSdt"
      },
      "execution_count": 5,
      "outputs": []
    },
    {
      "cell_type": "code",
      "source": [
        "print(X)"
      ],
      "metadata": {
        "colab": {
          "base_uri": "https://localhost:8080/"
        },
        "id": "LO_geHqEUoK4",
        "outputId": "e51678df-5aa2-499c-e49b-1fa8cd1466f5"
      },
      "execution_count": 6,
      "outputs": [
        {
          "output_type": "stream",
          "name": "stdout",
          "text": [
            "[[  14.96   41.76 1024.07   73.17]\n",
            " [  25.18   62.96 1020.04   59.08]\n",
            " [   5.11   39.4  1012.16   92.14]\n",
            " ...\n",
            " [  31.32   74.33 1012.92   36.48]\n",
            " [  24.48   69.45 1013.86   62.39]\n",
            " [  21.6    62.52 1017.23   67.87]]\n"
          ]
        }
      ]
    },
    {
      "cell_type": "code",
      "source": [
        "print(y)"
      ],
      "metadata": {
        "colab": {
          "base_uri": "https://localhost:8080/"
        },
        "id": "bkmZSKiNUpv7",
        "outputId": "bfade3ba-fc99-4ce3-8723-990e00af373d"
      },
      "execution_count": 7,
      "outputs": [
        {
          "output_type": "stream",
          "name": "stdout",
          "text": [
            "[463.26 444.37 488.56 ... 429.57 435.74 453.28]\n"
          ]
        }
      ]
    },
    {
      "cell_type": "markdown",
      "metadata": {
        "id": "VC6omXel_Up0"
      },
      "source": [
        "### Splitting the dataset into the Training set and Test set"
      ]
    },
    {
      "cell_type": "code",
      "source": [
        "from sklearn.model_selection import train_test_split\n",
        "X_train, X_test, y_train, y_test = train_test_split(X, y, test_size=0.2, random_state=0)"
      ],
      "metadata": {
        "id": "IUHuW8u_WqUs"
      },
      "execution_count": 8,
      "outputs": []
    },
    {
      "cell_type": "markdown",
      "metadata": {
        "id": "_mSLlAT9_eyI"
      },
      "source": [
        "## Part 2 - Building the ANN"
      ]
    },
    {
      "cell_type": "markdown",
      "metadata": {
        "id": "CsBULd_f_wLY"
      },
      "source": [
        "### Initializing the ANN"
      ]
    },
    {
      "cell_type": "code",
      "source": [
        "#initialising ann object of Sequential class\n",
        "ann = tf.keras.models.Sequential()"
      ],
      "metadata": {
        "id": "6bdet-jXYmK-"
      },
      "execution_count": 9,
      "outputs": []
    },
    {
      "cell_type": "markdown",
      "metadata": {
        "id": "iitAFJS_ABUn"
      },
      "source": [
        "### Adding the input layer and the first hidden layer"
      ]
    },
    {
      "cell_type": "code",
      "source": [
        "ann.add(tf.keras.layers.Dense(units = '6', activation = 'relu')) \n",
        "#units- number of neurons, and linear rectifier as our activation func\n",
        "#units in first layer is automatically picked, but we set neurons for hidden layer (here we choose 6)"
      ],
      "metadata": {
        "id": "v0DbkqUvYwHr"
      },
      "execution_count": 10,
      "outputs": []
    },
    {
      "cell_type": "markdown",
      "metadata": {
        "id": "-lb4kK_wAKbs"
      },
      "source": [
        "### Adding the second hidden layer"
      ]
    },
    {
      "cell_type": "code",
      "source": [
        "ann.add(tf.keras.layers.Dense(units = '6', activation = 'relu'))  #number of neurons in second hidden layer same as previous"
      ],
      "metadata": {
        "id": "tbMWu2H1Z7JV"
      },
      "execution_count": 11,
      "outputs": []
    },
    {
      "cell_type": "markdown",
      "metadata": {
        "id": "jwMOmKb3AdBY"
      },
      "source": [
        "### Adding the output layer"
      ]
    },
    {
      "cell_type": "code",
      "source": [
        "#there is going to be one output neuron only (that will show the regression result (continuous value)) therefore no activation function required here\n",
        "ann.add(tf.keras.layers.Dense(units = '1')) "
      ],
      "metadata": {
        "id": "jdio0R5jafu9"
      },
      "execution_count": 12,
      "outputs": []
    },
    {
      "cell_type": "markdown",
      "metadata": {
        "id": "fq7e4fF6A1yy"
      },
      "source": [
        "## Part 3 - Training the ANN"
      ]
    },
    {
      "cell_type": "markdown",
      "metadata": {
        "id": "qDeylAs2An25"
      },
      "source": [
        "### Compiling the ANN"
      ]
    },
    {
      "cell_type": "code",
      "source": [
        "#during compilation we use adam optimiser for refitting the weights (stochastic gradient descent)-used for both classification and regression\n",
        "# and loss function for regression is mean squared error\n",
        "ann.compile(optimizer = 'adam', loss = 'mean_squared_error')"
      ],
      "metadata": {
        "id": "c6LXNeLrb-5n"
      },
      "execution_count": 13,
      "outputs": []
    },
    {
      "cell_type": "markdown",
      "metadata": {
        "id": "YjVuiybYOo7r"
      },
      "source": [
        "### Training the ANN model on the Training set"
      ]
    },
    {
      "cell_type": "code",
      "source": [
        "ann.fit(X_train, y_train, batch_size=32, epochs=100)"
      ],
      "metadata": {
        "colab": {
          "base_uri": "https://localhost:8080/"
        },
        "id": "zZrj5lgydK4Y",
        "outputId": "31d66ff9-0923-4d21-bd98-1a52d40493d3"
      },
      "execution_count": 14,
      "outputs": [
        {
          "output_type": "stream",
          "name": "stdout",
          "text": [
            "Epoch 1/100\n",
            "240/240 [==============================] - 2s 2ms/step - loss: 2430.3350\n",
            "Epoch 2/100\n",
            "240/240 [==============================] - 0s 2ms/step - loss: 345.3046\n",
            "Epoch 3/100\n",
            "240/240 [==============================] - 0s 2ms/step - loss: 323.5359\n",
            "Epoch 4/100\n",
            "240/240 [==============================] - 0s 2ms/step - loss: 298.8324\n",
            "Epoch 5/100\n",
            "240/240 [==============================] - 0s 2ms/step - loss: 272.4546\n",
            "Epoch 6/100\n",
            "240/240 [==============================] - 0s 2ms/step - loss: 244.5643\n",
            "Epoch 7/100\n",
            "240/240 [==============================] - 0s 2ms/step - loss: 217.0730\n",
            "Epoch 8/100\n",
            "240/240 [==============================] - 0s 2ms/step - loss: 188.3830\n",
            "Epoch 9/100\n",
            "240/240 [==============================] - 0s 2ms/step - loss: 159.6196\n",
            "Epoch 10/100\n",
            "240/240 [==============================] - 0s 2ms/step - loss: 132.5506\n",
            "Epoch 11/100\n",
            "240/240 [==============================] - 0s 2ms/step - loss: 107.8311\n",
            "Epoch 12/100\n",
            "240/240 [==============================] - 1s 2ms/step - loss: 84.4871\n",
            "Epoch 13/100\n",
            "240/240 [==============================] - 1s 3ms/step - loss: 66.3855\n",
            "Epoch 14/100\n",
            "240/240 [==============================] - 1s 2ms/step - loss: 52.9698\n",
            "Epoch 15/100\n",
            "240/240 [==============================] - 1s 3ms/step - loss: 45.1791\n",
            "Epoch 16/100\n",
            "240/240 [==============================] - 1s 3ms/step - loss: 40.4298\n",
            "Epoch 17/100\n",
            "240/240 [==============================] - 0s 2ms/step - loss: 38.0072\n",
            "Epoch 18/100\n",
            "240/240 [==============================] - 0s 2ms/step - loss: 36.3463\n",
            "Epoch 19/100\n",
            "240/240 [==============================] - 0s 2ms/step - loss: 35.3351\n",
            "Epoch 20/100\n",
            "240/240 [==============================] - 0s 2ms/step - loss: 34.2274\n",
            "Epoch 21/100\n",
            "240/240 [==============================] - 0s 2ms/step - loss: 33.6607\n",
            "Epoch 22/100\n",
            "240/240 [==============================] - 0s 2ms/step - loss: 33.0595\n",
            "Epoch 23/100\n",
            "240/240 [==============================] - 0s 2ms/step - loss: 32.7418\n",
            "Epoch 24/100\n",
            "240/240 [==============================] - 0s 2ms/step - loss: 32.3202\n",
            "Epoch 25/100\n",
            "240/240 [==============================] - 0s 2ms/step - loss: 31.7081\n",
            "Epoch 26/100\n",
            "240/240 [==============================] - 0s 2ms/step - loss: 31.0672\n",
            "Epoch 27/100\n",
            "240/240 [==============================] - 0s 2ms/step - loss: 30.6774\n",
            "Epoch 28/100\n",
            "240/240 [==============================] - 0s 2ms/step - loss: 30.7155\n",
            "Epoch 29/100\n",
            "240/240 [==============================] - 0s 2ms/step - loss: 30.2828\n",
            "Epoch 30/100\n",
            "240/240 [==============================] - 0s 2ms/step - loss: 29.6956\n",
            "Epoch 31/100\n",
            "240/240 [==============================] - 0s 2ms/step - loss: 29.7349\n",
            "Epoch 32/100\n",
            "240/240 [==============================] - 0s 2ms/step - loss: 29.4651\n",
            "Epoch 33/100\n",
            "240/240 [==============================] - 0s 2ms/step - loss: 28.7883\n",
            "Epoch 34/100\n",
            "240/240 [==============================] - 0s 2ms/step - loss: 29.1026\n",
            "Epoch 35/100\n",
            "240/240 [==============================] - 0s 2ms/step - loss: 28.6306\n",
            "Epoch 36/100\n",
            "240/240 [==============================] - 0s 2ms/step - loss: 28.6208\n",
            "Epoch 37/100\n",
            "240/240 [==============================] - 0s 2ms/step - loss: 28.3031\n",
            "Epoch 38/100\n",
            "240/240 [==============================] - 0s 2ms/step - loss: 28.3845\n",
            "Epoch 39/100\n",
            "240/240 [==============================] - 0s 2ms/step - loss: 27.8978\n",
            "Epoch 40/100\n",
            "240/240 [==============================] - 0s 2ms/step - loss: 27.5678\n",
            "Epoch 41/100\n",
            "240/240 [==============================] - 1s 2ms/step - loss: 27.5652\n",
            "Epoch 42/100\n",
            "240/240 [==============================] - 1s 2ms/step - loss: 28.1422\n",
            "Epoch 43/100\n",
            "240/240 [==============================] - 1s 2ms/step - loss: 28.0653\n",
            "Epoch 44/100\n",
            "240/240 [==============================] - 1s 2ms/step - loss: 27.6034\n",
            "Epoch 45/100\n",
            "240/240 [==============================] - 1s 3ms/step - loss: 27.0614\n",
            "Epoch 46/100\n",
            "240/240 [==============================] - 1s 2ms/step - loss: 27.5957\n",
            "Epoch 47/100\n",
            "240/240 [==============================] - 0s 2ms/step - loss: 26.8804\n",
            "Epoch 48/100\n",
            "240/240 [==============================] - 0s 2ms/step - loss: 26.9698\n",
            "Epoch 49/100\n",
            "240/240 [==============================] - 0s 2ms/step - loss: 26.9670\n",
            "Epoch 50/100\n",
            "240/240 [==============================] - 0s 2ms/step - loss: 27.0750\n",
            "Epoch 51/100\n",
            "240/240 [==============================] - 0s 2ms/step - loss: 27.6478\n",
            "Epoch 52/100\n",
            "240/240 [==============================] - 0s 2ms/step - loss: 26.9127\n",
            "Epoch 53/100\n",
            "240/240 [==============================] - 0s 2ms/step - loss: 27.0418\n",
            "Epoch 54/100\n",
            "240/240 [==============================] - 0s 2ms/step - loss: 26.7405\n",
            "Epoch 55/100\n",
            "240/240 [==============================] - 0s 2ms/step - loss: 26.9900\n",
            "Epoch 56/100\n",
            "240/240 [==============================] - 0s 2ms/step - loss: 26.6462\n",
            "Epoch 57/100\n",
            "240/240 [==============================] - 0s 2ms/step - loss: 26.8973\n",
            "Epoch 58/100\n",
            "240/240 [==============================] - 0s 2ms/step - loss: 27.0508\n",
            "Epoch 59/100\n",
            "240/240 [==============================] - 0s 2ms/step - loss: 26.9664\n",
            "Epoch 60/100\n",
            "240/240 [==============================] - 0s 2ms/step - loss: 27.0371\n",
            "Epoch 61/100\n",
            "240/240 [==============================] - 0s 2ms/step - loss: 26.6802\n",
            "Epoch 62/100\n",
            "240/240 [==============================] - 0s 2ms/step - loss: 26.5804\n",
            "Epoch 63/100\n",
            "240/240 [==============================] - 0s 2ms/step - loss: 26.8787\n",
            "Epoch 64/100\n",
            "240/240 [==============================] - 0s 2ms/step - loss: 26.8994\n",
            "Epoch 65/100\n",
            "240/240 [==============================] - 0s 2ms/step - loss: 26.6559\n",
            "Epoch 66/100\n",
            "240/240 [==============================] - 0s 2ms/step - loss: 26.5560\n",
            "Epoch 67/100\n",
            "240/240 [==============================] - 0s 2ms/step - loss: 26.9069\n",
            "Epoch 68/100\n",
            "240/240 [==============================] - 0s 2ms/step - loss: 26.5025\n",
            "Epoch 69/100\n",
            "240/240 [==============================] - 0s 2ms/step - loss: 26.8027\n",
            "Epoch 70/100\n",
            "240/240 [==============================] - 1s 2ms/step - loss: 27.4489\n",
            "Epoch 71/100\n",
            "240/240 [==============================] - 1s 2ms/step - loss: 26.7091\n",
            "Epoch 72/100\n",
            "240/240 [==============================] - 1s 2ms/step - loss: 26.8692\n",
            "Epoch 73/100\n",
            "240/240 [==============================] - 1s 2ms/step - loss: 26.6645\n",
            "Epoch 74/100\n",
            "240/240 [==============================] - 1s 2ms/step - loss: 26.6995\n",
            "Epoch 75/100\n",
            "240/240 [==============================] - 1s 2ms/step - loss: 26.4279\n",
            "Epoch 76/100\n",
            "240/240 [==============================] - 0s 2ms/step - loss: 26.9861\n",
            "Epoch 77/100\n",
            "240/240 [==============================] - 0s 2ms/step - loss: 26.1433\n",
            "Epoch 78/100\n",
            "240/240 [==============================] - 0s 2ms/step - loss: 26.7968\n",
            "Epoch 79/100\n",
            "240/240 [==============================] - 0s 2ms/step - loss: 26.8636\n",
            "Epoch 80/100\n",
            "240/240 [==============================] - 0s 2ms/step - loss: 26.4510\n",
            "Epoch 81/100\n",
            "240/240 [==============================] - 0s 2ms/step - loss: 26.5322\n",
            "Epoch 82/100\n",
            "240/240 [==============================] - 0s 2ms/step - loss: 26.7675\n",
            "Epoch 83/100\n",
            "240/240 [==============================] - 0s 2ms/step - loss: 27.1668\n",
            "Epoch 84/100\n",
            "240/240 [==============================] - 0s 2ms/step - loss: 26.4511\n",
            "Epoch 85/100\n",
            "240/240 [==============================] - 0s 2ms/step - loss: 26.6519\n",
            "Epoch 86/100\n",
            "240/240 [==============================] - 0s 2ms/step - loss: 26.1387\n",
            "Epoch 87/100\n",
            "240/240 [==============================] - 0s 2ms/step - loss: 26.7990\n",
            "Epoch 88/100\n",
            "240/240 [==============================] - 0s 2ms/step - loss: 26.3956\n",
            "Epoch 89/100\n",
            "240/240 [==============================] - 0s 2ms/step - loss: 26.4238\n",
            "Epoch 90/100\n",
            "240/240 [==============================] - 0s 2ms/step - loss: 26.5112\n",
            "Epoch 91/100\n",
            "240/240 [==============================] - 0s 2ms/step - loss: 26.6247\n",
            "Epoch 92/100\n",
            "240/240 [==============================] - 0s 2ms/step - loss: 26.9431\n",
            "Epoch 93/100\n",
            "240/240 [==============================] - 0s 2ms/step - loss: 27.0272\n",
            "Epoch 94/100\n",
            "240/240 [==============================] - 0s 2ms/step - loss: 26.4205\n",
            "Epoch 95/100\n",
            "240/240 [==============================] - 0s 2ms/step - loss: 26.7399\n",
            "Epoch 96/100\n",
            "240/240 [==============================] - 0s 2ms/step - loss: 26.3773\n",
            "Epoch 97/100\n",
            "240/240 [==============================] - 0s 2ms/step - loss: 26.4865\n",
            "Epoch 98/100\n",
            "240/240 [==============================] - 0s 2ms/step - loss: 26.6612\n",
            "Epoch 99/100\n",
            "240/240 [==============================] - 0s 2ms/step - loss: 26.7686\n",
            "Epoch 100/100\n",
            "240/240 [==============================] - 1s 2ms/step - loss: 26.6806\n"
          ]
        },
        {
          "output_type": "execute_result",
          "data": {
            "text/plain": [
              "<keras.callbacks.History at 0x7fd4fd6ca4f0>"
            ]
          },
          "metadata": {},
          "execution_count": 14
        }
      ]
    },
    {
      "cell_type": "markdown",
      "source": [
        "Epoch — One epoch is when the entire dataset is passed through the network once. This comprises of one instance of a forward pass and back-propagation."
      ],
      "metadata": {
        "id": "TqYv4QcIdKRJ"
      }
    },
    {
      "cell_type": "markdown",
      "source": [
        "The batch size is a number of samples processed before the model is updated. The number of epochs is the number of complete passes through the training dataset. The size of a batch must be more than or equal to one and less than or equal to the number of samples in the training dataset"
      ],
      "metadata": {
        "id": "LmGrqdb-dj_u"
      }
    },
    {
      "cell_type": "markdown",
      "metadata": {
        "id": "0H0zKKNEBLD5"
      },
      "source": [
        "### Predicting the results of the Test set"
      ]
    },
    {
      "cell_type": "code",
      "source": [
        "y_pred = ann.predict(X_test)\n",
        "np.set_printoptions(precision=2)\n",
        "print(np.concatenate((y_pred.reshape(len(y_pred),1), y_test.reshape(len(y_test),1)),1))\n"
      ],
      "metadata": {
        "colab": {
          "base_uri": "https://localhost:8080/"
        },
        "id": "ffWobRioU1Q5",
        "outputId": "2001e5b4-027a-4ff3-e99d-34159eec0b3c"
      },
      "execution_count": 16,
      "outputs": [
        {
          "output_type": "stream",
          "name": "stdout",
          "text": [
            "60/60 [==============================] - 0s 2ms/step\n",
            "[[431.51 431.23]\n",
            " [462.6  460.01]\n",
            " [466.09 461.14]\n",
            " ...\n",
            " [473.34 473.26]\n",
            " [440.11 438.  ]\n",
            " [459.34 463.28]]\n"
          ]
        }
      ]
    }
  ]
}