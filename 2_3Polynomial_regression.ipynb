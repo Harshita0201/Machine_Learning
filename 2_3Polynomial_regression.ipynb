{
  "nbformat": 4,
  "nbformat_minor": 0,
  "metadata": {
    "colab": {
      "name": "2.3Polynomial_regression.ipynb",
      "provenance": [],
      "collapsed_sections": [],
      "include_colab_link": true
    },
    "kernelspec": {
      "name": "python3",
      "display_name": "Python 3"
    }
  },
  "cells": [
    {
      "cell_type": "markdown",
      "metadata": {
        "id": "view-in-github",
        "colab_type": "text"
      },
      "source": [
        "<a href=\"https://colab.research.google.com/github/Harshita0201/Machine_Learning/blob/main/2_3Polynomial_regression.ipynb\" target=\"_parent\"><img src=\"https://colab.research.google.com/assets/colab-badge.svg\" alt=\"Open In Colab\"/></a>"
      ]
    },
    {
      "cell_type": "markdown",
      "metadata": {
        "id": "vN99YjPTDena"
      },
      "source": [
        "# Polynomial Regression"
      ]
    },
    {
      "cell_type": "markdown",
      "metadata": {
        "id": "ZIx_naXnDyHd"
      },
      "source": [
        "## Importing the libraries"
      ]
    },
    {
      "cell_type": "code",
      "metadata": {
        "id": "yuEwRZxYfu9B"
      },
      "source": [
        "import numpy as np\n",
        "import matplotlib.pyplot as plt\n",
        "import pandas as pd"
      ],
      "execution_count": 2,
      "outputs": []
    },
    {
      "cell_type": "markdown",
      "metadata": {
        "id": "6c8YExmOD5x5"
      },
      "source": [
        "## Importing the dataset"
      ]
    },
    {
      "cell_type": "code",
      "metadata": {
        "id": "Z9zg5JJmf2To"
      },
      "source": [
        "dataset = pd.read_csv('Position_Salaries.csv')\n",
        "X = dataset.iloc[:, 1:-1].values # for the given dataset not including the first column as it col 1 vals are interpretation from col 0, or col 0 is encoded in col 1 vals \n",
        "y = dataset.iloc[:, -1].values  "
      ],
      "execution_count": 4,
      "outputs": []
    },
    {
      "cell_type": "code",
      "metadata": {
        "colab": {
          "base_uri": "https://localhost:8080/"
        },
        "id": "gNnG-78UiTaG",
        "outputId": "77142625-28a7-4024-b227-4d29c67e8a76"
      },
      "source": [
        "print(X)"
      ],
      "execution_count": 5,
      "outputs": [
        {
          "output_type": "stream",
          "name": "stdout",
          "text": [
            "[[ 1]\n",
            " [ 2]\n",
            " [ 3]\n",
            " [ 4]\n",
            " [ 5]\n",
            " [ 6]\n",
            " [ 7]\n",
            " [ 8]\n",
            " [ 9]\n",
            " [10]]\n"
          ]
        }
      ]
    },
    {
      "cell_type": "code",
      "metadata": {
        "colab": {
          "base_uri": "https://localhost:8080/"
        },
        "id": "-FiqU3VKiUrB",
        "outputId": "a296575a-b8d1-4225-dea0-321b23e7d430"
      },
      "source": [
        "print(y)"
      ],
      "execution_count": 6,
      "outputs": [
        {
          "output_type": "stream",
          "name": "stdout",
          "text": [
            "[  45000   50000   60000   80000  110000  150000  200000  300000  500000\n",
            " 1000000]\n"
          ]
        }
      ]
    },
    {
      "cell_type": "markdown",
      "metadata": {
        "id": "ce8FvrH5iDkj"
      },
      "source": [
        "For the given datset we have very less number of entries due to ehich we will not seperate it into training and test sets and continue with training the model on whole dataset"
      ]
    },
    {
      "cell_type": "markdown",
      "metadata": {
        "id": "Le8SEL-YEOLb"
      },
      "source": [
        "## Training the Linear Regression model on the whole dataset"
      ]
    },
    {
      "cell_type": "code",
      "metadata": {
        "colab": {
          "base_uri": "https://localhost:8080/"
        },
        "id": "dCdDzRFc8FCZ",
        "outputId": "d189aba8-6bf2-4a7a-f2aa-a44c72740631"
      },
      "source": [
        "#For y = b0 + b1*x1  \n",
        "from sklearn.linear_model import LinearRegression\n",
        "lin_reg = LinearRegression()\n",
        "lin_reg.fit(X, y) #fitting the model on the whole dataset\n"
      ],
      "execution_count": 7,
      "outputs": [
        {
          "output_type": "execute_result",
          "data": {
            "text/plain": [
              "LinearRegression(copy_X=True, fit_intercept=True, n_jobs=None, normalize=False)"
            ]
          },
          "metadata": {},
          "execution_count": 7
        }
      ]
    },
    {
      "cell_type": "markdown",
      "metadata": {
        "id": "Rb5nWuSHEfBV"
      },
      "source": [
        "## Training the Polynomial Regression model on the whole dataset"
      ]
    },
    {
      "cell_type": "code",
      "metadata": {
        "colab": {
          "base_uri": "https://localhost:8080/"
        },
        "id": "MsGTqCQh9Jwi",
        "outputId": "5548b21e-7f36-4351-88c9-f85c55d2302a"
      },
      "source": [
        "#For y = b0 + b1*x1 + b2*x1^2 + b3*x1^3...bn*x1^n\n",
        "#To implement this we are going to do in 2 steps\n",
        "#step 1-> create a matrix of powers of features i.e-> x1, x1^2, x1^3...x1^n\n",
        "\n",
        "#to create the new matrix of pwers of IVs we use PolynomialFeatures class under the preprossessing module under the sklearn lib\n",
        "from sklearn.preprocessing import PolynomialFeatures\n",
        "poly_reg = PolynomialFeatures(degree = 4) #for n=4 i,e b0 + b1*x1 + b2*x1^2 + b3*x1^3 + b4*x1^4\n",
        "X_poly = poly_reg.fit_transform(X) #new matrix of powered features\n",
        "\n",
        "#step 2-> integrate this to a linear regression model(to make polynomial linear regression)\n",
        "lin_reg2 = LinearRegression()\n",
        "lin_reg2.fit(X_poly, y) #fit the model on new powered matrix features (IV) and same Dv\n",
        "#this completes creation of polynomial linear regression model"
      ],
      "execution_count": 12,
      "outputs": [
        {
          "output_type": "execute_result",
          "data": {
            "text/plain": [
              "LinearRegression(copy_X=True, fit_intercept=True, n_jobs=None, normalize=False)"
            ]
          },
          "metadata": {},
          "execution_count": 12
        }
      ]
    },
    {
      "cell_type": "markdown",
      "metadata": {
        "id": "0O8R0tzbEpvy"
      },
      "source": [
        "## Visualising the Linear Regression results"
      ]
    },
    {
      "cell_type": "code",
      "metadata": {
        "colab": {
          "base_uri": "https://localhost:8080/",
          "height": 295
        },
        "id": "0Cs4Vt8uDD5c",
        "outputId": "acad251c-6bf2-4d1e-8bde-8cdf488ec50c"
      },
      "source": [
        "plt.scatter(X, y, color='red') #plotting the real values of X (IV) and y (DV)\n",
        "plt.plot(X, lin_reg.predict(X), color='blue') #plotting the predicted values(DV i.e Salary) for given IV posistions\n",
        "plt.title('Linear Regression Model Visualisation (Truth or bluff)')\n",
        "plt.xlabel('Position Level')\n",
        "plt.ylabel('Salary')\n",
        "plt.show()"
      ],
      "execution_count": 10,
      "outputs": [
        {
          "output_type": "display_data",
          "data": {
            "image/png": "[encoded data removed]",
            "text/plain": [
              "<Figure size 432x288 with 1 Axes>"
            ]
          },
          "metadata": {
            "needs_background": "light"
          }
        }
      ]
    },
    {
      "cell_type": "markdown",
      "metadata": {
        "id": "RasKwYwjEi5J"
      },
      "source": [
        "we can make out from the above graogh that linear regression model is not well adopted for non linear given feature variables (as for many values of given position level (IV) the prediction of model is far from the real value pf salary (red plot)"
      ]
    },
    {
      "cell_type": "markdown",
      "metadata": {
        "id": "stOnSo74E52m"
      },
      "source": [
        "## Visualising the Polynomial Regression results"
      ]
    },
    {
      "cell_type": "code",
      "metadata": {
        "colab": {
          "base_uri": "https://localhost:8080/",
          "height": 295
        },
        "id": "EU2AdQq6FG8Q",
        "outputId": "bf8e72f1-daf6-47c4-c05a-d2c6a21a4a2d"
      },
      "source": [
        "plt.scatter(X, y, color='red') #plotting the real values of X (IV) and y (DV)\n",
        "plt.plot(X, lin_reg2.predict(poly_reg.fit_transform(X)), color='blue') #plotting the predicted values(DV i.e Salary) for given IV (powered features)posistions\n",
        "plt.title('Polynomial Linear Regression Model Visualisation (Truth or bluff)')\n",
        "plt.xlabel('Position Level')\n",
        "plt.ylabel('Salary')\n",
        "plt.show()"
      ],
      "execution_count": 13,
      "outputs": [
        {
          "output_type": "display_data",
          "data": {
            "image/png": "[encoded data removed]",
            "text/plain": [
              "<Figure size 432x288 with 1 Axes>"
            ]
          },
          "metadata": {
            "needs_background": "light"
          }
        }
      ]
    },
    {
      "cell_type": "markdown",
      "metadata": {
        "id": "Y0Ip22T6HcIE"
      },
      "source": [
        "We keep on increasing the n (fromn=2, to 3 to 4..)and retrain the polynomial reg model for better results.\n",
        "The results of the graph are of over-fitting (definately) but this shows us that ploynomial linear regression fites better to such a dataset with non linear dependencies btw IV and DV."
      ]
    },
    {
      "cell_type": "markdown",
      "metadata": {
        "id": "U_qsAMKnE-PJ"
      },
      "source": [
        "## Visualising the Polynomial Regression results (for higher resolution and smoother curve)"
      ]
    },
    {
      "cell_type": "code",
      "metadata": {
        "colab": {
          "base_uri": "https://localhost:8080/",
          "height": 295
        },
        "id": "jBdkRbpLH8Oh",
        "outputId": "7920e8de-67be-48eb-ab6a-bfb3ac478991"
      },
      "source": [
        "X_grid = np.arange(min(X), max(X), 0.1) #instead of taking scale of 1 on x-axis we take scale of 0.1 \n",
        "X_grid = X_grid.reshape((len(X_grid), 1))\n",
        "plt.scatter(X, y, color = 'red')\n",
        "plt.plot(X_grid, lin_reg2.predict(poly_reg.fit_transform(X_grid)), color = 'blue')\n",
        "plt.title('Truth or Bluff (Polynomial Regression)')\n",
        "plt.xlabel('Position level')\n",
        "plt.ylabel('Salary')\n",
        "plt.show()"
      ],
      "execution_count": 15,
      "outputs": [
        {
          "output_type": "display_data",
          "data": {
            "image/png": "[encoded data removed]",
            "text/plain": [
              "<Figure size 432x288 with 1 Axes>"
            ]
          },
          "metadata": {
            "needs_background": "light"
          }
        }
      ]
    },
    {
      "cell_type": "markdown",
      "metadata": {
        "id": "diyJFZHhFFeK"
      },
      "source": [
        "## Predicting a new result with Linear Regression"
      ]
    },
    {
      "cell_type": "code",
      "metadata": {
        "colab": {
          "base_uri": "https://localhost:8080/"
        },
        "id": "MSp5eAaNIumU",
        "outputId": "e8f2a710-4e68-4624-cd13-f210504ad85c"
      },
      "source": [
        "#predicting for Position level 6.5\n",
        "lin_reg.predict([[6.5]]) #passing val inside double square brackets as predict() accepts  params passed as 2D array"
      ],
      "execution_count": 16,
      "outputs": [
        {
          "output_type": "execute_result",
          "data": {
            "text/plain": [
              "array([330378.78787879])"
            ]
          },
          "metadata": {},
          "execution_count": 16
        }
      ]
    },
    {
      "cell_type": "markdown",
      "metadata": {
        "id": "RFcjVrUlMUpD"
      },
      "source": [
        "Bad prediction (more than the actual salary for that position level)"
      ]
    },
    {
      "cell_type": "markdown",
      "metadata": {
        "id": "DW7I7ZVDFNkk"
      },
      "source": [
        "## Predicting a new result with Polynomial Regression"
      ]
    },
    {
      "cell_type": "code",
      "metadata": {
        "colab": {
          "base_uri": "https://localhost:8080/"
        },
        "id": "nmtC8lpmMeHB",
        "outputId": "5491ed52-e2e7-4ce4-efc9-75b27a47abc6"
      },
      "source": [
        "lin_reg2.predict(poly_reg.fit_transform([[6.5]]))"
      ],
      "execution_count": 17,
      "outputs": [
        {
          "output_type": "execute_result",
          "data": {
            "text/plain": [
              "array([158862.45265155])"
            ]
          },
          "metadata": {},
          "execution_count": 17
        }
      ]
    },
    {
      "cell_type": "markdown",
      "metadata": {
        "id": "ExiT2Md1NQTB"
      },
      "source": [
        "Close prediction to the actual salary mentioned."
      ]
    }
  ]
}