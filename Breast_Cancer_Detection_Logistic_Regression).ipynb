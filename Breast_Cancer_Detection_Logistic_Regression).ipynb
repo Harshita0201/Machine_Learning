{
  "nbformat": 4,
  "nbformat_minor": 0,
  "metadata": {
    "colab": {
      "name": "Breast_Cancer_Detection Logistic Regression)",
      "provenance": [],
      "toc_visible": true,
      "include_colab_link": true
    },
    "kernelspec": {
      "name": "python3",
      "display_name": "Python 3"
    }
  },
  "cells": [
    {
      "cell_type": "markdown",
      "metadata": {
        "id": "view-in-github",
        "colab_type": "text"
      },
      "source": [
        "<a href=\"https://colab.research.google.com/github/Harshita0201/Machine_Learning/blob/main/Breast_Cancer_Detection_Logistic_Regression).ipynb\" target=\"_parent\"><img src=\"https://colab.research.google.com/assets/colab-badge.svg\" alt=\"Open In Colab\"/></a>"
      ]
    },
    {
      "cell_type": "markdown",
      "metadata": {
        "id": "Q8X8xDwS6vgS"
      },
      "source": [
        "# Logistic Regression"
      ]
    },
    {
      "cell_type": "markdown",
      "metadata": {
        "id": "PEGG4I6n60cM"
      },
      "source": [
        "## Importing the libraries"
      ]
    },
    {
      "cell_type": "code",
      "metadata": {
        "id": "eIMZoZ-uGb2r"
      },
      "source": [
        "import pandas as pd"
      ],
      "execution_count": 1,
      "outputs": []
    },
    {
      "cell_type": "markdown",
      "metadata": {
        "id": "Aa536pRY7Eq5"
      },
      "source": [
        "## Importing the dataset"
      ]
    },
    {
      "cell_type": "code",
      "metadata": {
        "id": "fGFlVg_NGuUu"
      },
      "source": [
        "dataset = pd.read_csv('breast_cancer.csv')\n",
        "X = dataset.iloc[: , 1:-1].values #independent variables from all the cols except the last one, we also ignore the first col as it doest not contribute to prediction \n",
        "y = dataset.iloc[:, -1].values #dependent variable or the class(2 for benign, 4 for malignant) in last col of dataset"
      ],
      "execution_count": 2,
      "outputs": []
    },
    {
      "cell_type": "markdown",
      "metadata": {
        "id": "0AnzJQCj7TLO"
      },
      "source": [
        "## Splitting the dataset into the Training set and Test set"
      ]
    },
    {
      "cell_type": "code",
      "metadata": {
        "id": "WUoi5QijIQaz"
      },
      "source": [
        "from sklearn.model_selection import train_test_split\n",
        "X_train, X_test, y_train, y_test = train_test_split(X, y, test_size=0.2, random_state=0) \n",
        "#137 observations in test set and rest 546 in training set"
      ],
      "execution_count": 3,
      "outputs": []
    },
    {
      "cell_type": "markdown",
      "metadata": {
        "id": "pS1Q-n_A7iZ_"
      },
      "source": [
        "## Training the Logistic Regression model on the Training set"
      ]
    },
    {
      "cell_type": "code",
      "metadata": {
        "id": "s0i5F1RzJX-E",
        "colab": {
          "base_uri": "https://localhost:8080/"
        },
        "outputId": "30dbdb0e-6c8b-4776-d08c-2fa898599612"
      },
      "source": [
        "from sklearn.linear_model import LogisticRegression\n",
        "classifier = LogisticRegression(random_state = 0) #create instance of class\n",
        "classifier.fit(X_train, y_train) #train it on or training set"
      ],
      "execution_count": 5,
      "outputs": [
        {
          "output_type": "execute_result",
          "data": {
            "text/plain": [
              "LogisticRegression(C=1.0, class_weight=None, dual=False, fit_intercept=True,\n",
              "                   intercept_scaling=1, l1_ratio=None, max_iter=100,\n",
              "                   multi_class='auto', n_jobs=None, penalty='l2',\n",
              "                   random_state=0, solver='lbfgs', tol=0.0001, verbose=0,\n",
              "                   warm_start=False)"
            ]
          },
          "metadata": {},
          "execution_count": 5
        }
      ]
    },
    {
      "cell_type": "markdown",
      "metadata": {
        "id": "4cgD7EnB8Dnd"
      },
      "source": [
        "## Predicting the Test set results"
      ]
    },
    {
      "cell_type": "code",
      "metadata": {
        "id": "TM7N3fq1Ln9w"
      },
      "source": [
        "#predicting it for new observation \n",
        "y_pred = classifier.predict(X_test)"
      ],
      "execution_count": 6,
      "outputs": []
    },
    {
      "cell_type": "markdown",
      "metadata": {
        "id": "26CHkZbs8Tu5"
      },
      "source": [
        "## Making the Confusion Matrix"
      ]
    },
    {
      "cell_type": "code",
      "metadata": {
        "colab": {
          "base_uri": "https://localhost:8080/"
        },
        "id": "PR1rkCj5lhHZ",
        "outputId": "484bd80e-05e6-49f1-da21-05a592f63bb0"
      },
      "source": [
        "from sklearn.metrics import confusion_matrix\n",
        "cm = confusion_matrix(y_test, y_pred) #ground truth vs the predicted values\n",
        "print(cm)"
      ],
      "execution_count": 7,
      "outputs": [
        {
          "output_type": "stream",
          "name": "stdout",
          "text": [
            "[[84  3]\n",
            " [ 3 47]]\n"
          ]
        }
      ]
    },
    {
      "cell_type": "markdown",
      "metadata": {
        "id": "Gb1mi5NhnHbK"
      },
      "source": [
        "84 correct predictions that the tumor is benign and 47 correct predictions that the tumor is milagnant, 3 incorrect predictions that tumor is benign  (false positive) and 3 incorrect predictions that tumor is milagnant i.e (false negative).\n",
        "we have 84+47=131 correct predictions out of 137 observations from test set."
      ]
    },
    {
      "cell_type": "code",
      "metadata": {
        "colab": {
          "base_uri": "https://localhost:8080/"
        },
        "id": "hVkksxKcnhX3",
        "outputId": "c7ecec61-0e7f-4fcd-aeb5-9bc1e707a151"
      },
      "source": [
        "#accuracy :\n",
        "#no. of predicted corrext / total observations\n",
        "#(84+47)/(84+47+3+3)"
      ],
      "execution_count": 8,
      "outputs": [
        {
          "output_type": "execute_result",
          "data": {
            "text/plain": [
              "0.9562043795620438"
            ]
          },
          "metadata": {},
          "execution_count": 8
        }
      ]
    },
    {
      "cell_type": "markdown",
      "metadata": {
        "id": "kMErnLnu8hmb"
      },
      "source": [
        "## Computing the accuracy with k-Fold Cross Validation"
      ]
    },
    {
      "cell_type": "code",
      "metadata": {
        "colab": {
          "base_uri": "https://localhost:8080/"
        },
        "id": "9ZYiM7Vsn25p",
        "outputId": "176f5781-674d-435c-ed45-e8ef33c94aad"
      },
      "source": [
        "# K-Fold Cross Validation: A technique where we build 10 train-test folds\n",
        "# and hence ending up with 10 accuracies and then we will include average of these 10 accuracies to get a relevant measure of our LogisticRegression model\n",
        "# We implement this using the cross_val_score class under the model_selection module of sklearn\n",
        "\n",
        "from sklearn.model_selection import cross_val_score\n",
        "accuracies = cross_val_score(estimator=classifier, X = X_train, y = y_train, cv=10) #the argument estimator linked the accuracy function to our claassifier, and X and y takes the values of matrix of features on which we apply this accuracy function cv depicts the number of folds we want, here 10 \n",
        "#accuracies have list of 10 accuracy of the training set folds\n",
        "print(\"Accuracy: {:.2f} %\".format(accuracies.mean()*100)) #print the average of all accuracies using the mean method of cross_val_score class\n",
        "print(\"Standard Deviation: {:.2f} %\".format(accuracies.std()*100)) # to know the varaince in the accuracies, using the std method of cross_val_score class, less the variance good is the prediction"
      ],
      "execution_count": 9,
      "outputs": [
        {
          "output_type": "stream",
          "name": "stdout",
          "text": [
            "Accuracy: 96.70 %\n",
            "Standard Deviation: 1.97 %\n"
          ]
        }
      ]
    },
    {
      "cell_type": "markdown",
      "metadata": {
        "id": "W3TATYRgrd7y"
      },
      "source": [
        "This means that 10 accuracies fall in the 96.70-1.97% to 96.70+1.97% accuracy or (94-98%)"
      ]
    }
  ]
}