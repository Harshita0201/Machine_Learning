{
  "nbformat": 4,
  "nbformat_minor": 0,
  "metadata": {
    "colab": {
      "name": "7.2thompson_sampling.ipynb",
      "provenance": [],
      "collapsed_sections": [],
      "include_colab_link": true
    },
    "kernelspec": {
      "name": "python3",
      "display_name": "Python 3"
    }
  },
  "cells": [
    {
      "cell_type": "markdown",
      "metadata": {
        "id": "view-in-github",
        "colab_type": "text"
      },
      "source": [
        "<a href=\"https://colab.research.google.com/github/Harshita0201/Machine_Learning/blob/main/7_2thompson_sampling.ipynb\" target=\"_parent\"><img src=\"https://colab.research.google.com/assets/colab-badge.svg\" alt=\"Open In Colab\"/></a>"
      ]
    },
    {
      "cell_type": "markdown",
      "metadata": {
        "id": "vPKTIRAtx232"
      },
      "source": [
        "# Thompson Sampling"
      ]
    },
    {
      "cell_type": "markdown",
      "metadata": {
        "id": "PqPv9zpAx-EE"
      },
      "source": [
        "## Importing the libraries"
      ]
    },
    {
      "cell_type": "code",
      "source": [
        "import pandas as pd\n",
        "import matplotlib.pyplot as plt\n",
        "import numpy as np"
      ],
      "metadata": {
        "id": "0IAtzZtzwHJv"
      },
      "execution_count": 1,
      "outputs": []
    },
    {
      "cell_type": "markdown",
      "metadata": {
        "id": "iqpVk5HhyGmO"
      },
      "source": [
        "## Importing the dataset"
      ]
    },
    {
      "cell_type": "code",
      "source": [
        "dataset = pd.read_csv('Ads_CTR_Optimisation.csv')\n",
        "#we do not need the independent and dependent matrix of features to implement reinforcement learning algo"
      ],
      "metadata": {
        "id": "UVEOVpD0wPK4"
      },
      "execution_count": 2,
      "outputs": []
    },
    {
      "cell_type": "markdown",
      "metadata": {
        "id": "WqoXeWOYyQhB"
      },
      "source": [
        "## Implementing Thompson Sampling"
      ]
    },
    {
      "cell_type": "code",
      "source": [
        "import random\n",
        "\n",
        "#step 1 \n",
        "N = 10000 #total number of users or rounds\n",
        "d = 10 #total number of ads..ad1, ad2, ad3,....ad10\n",
        "ads_selected=[] #(initially empty list) list of all selected ads\n",
        "numbers_of_rewards_1 = [0] * d #Ni1(n) the number of times ad i got reward 1 upto round n , empty list of 10 0s as initially noad got any reward \n",
        "numbers_of_rewards_0 = [0] * d#Ni0(n) the number of times ad i got reward 0 upto round n, \"\n",
        "total_reward = 0\n",
        "\n",
        "\n",
        "#step 2\n",
        "for n in range(0, N): #for each user from total 10k users/ rounds\n",
        "  ad = 0 #inidicates the index of the ad selected after each round n\n",
        "  max_random = 0  #maximum of all the random draws\n",
        "  for i in range(0,d): #for each ad i from total 10 ads \n",
        "\n",
        "    #step 2 : for each ad i we calculate random draw from distribution : theta.i(n) = beta(Ni1(n)+1, Ni0(n)+1)\n",
        "    random_beta = random.betavariate(numbers_of_rewards_1[i] + 1, numbers_of_rewards_0[i] + 1)\n",
        "\n",
        "    #step 3: we select the ad that has highest theta.i(n) or random_beta\n",
        "    if(random_beta > max_random): #update the maximum random draw\n",
        "      max_random = random_beta\n",
        "      ad = i #select the ad at index i which has max random draw\n",
        "\n",
        "  ads_selected.append(ad)  \n",
        "  reward = dataset.values[n, ad] #for user at index n and index of highest random value ad 'ad'  \n",
        "  if(reward == 1): # #reward collected is 0\n",
        "    numbers_of_rewards_1[ad]+=1\n",
        "  else: #reward collected is 0\n",
        "    numbers_of_rewards_0[ad]+=1  \n",
        "  total_reward+=reward  \n"
      ],
      "metadata": {
        "id": "RQAUL_y3w6V5"
      },
      "execution_count": 3,
      "outputs": []
    },
    {
      "cell_type": "markdown",
      "metadata": {
        "id": "tweWsgTHyXhv"
      },
      "source": [
        "## Visualising the results - Histogram"
      ]
    },
    {
      "cell_type": "code",
      "source": [
        "#histogram plot for each ad for how many times it was selected\n",
        "#on the x-axis we have number of ads from 0 to 9\n",
        "#on the y-axis the number of times they were selected\n",
        "plt.hist(ads_selected)\n",
        "plt.title('Histogram of ads selections')\n",
        "plt.xlabel('Ads')\n",
        "plt.ylabel('Number of times each ad was selected')\n",
        "plt.show()"
      ],
      "metadata": {
        "colab": {
          "base_uri": "https://localhost:8080/",
          "height": 295
        },
        "id": "nVHrAJ6h4xkq",
        "outputId": "fcea2b36-00f8-4eac-80e8-8b93bdde1905"
      },
      "execution_count": 4,
      "outputs": [
        {
          "output_type": "display_data",
          "data": {
            "image/png": "[encoded data removed]",
            "text/plain": [
              "<Figure size 432x288 with 1 Axes>"
            ]
          },
          "metadata": {
            "needs_background": "light"
          }
        }
      ]
    },
    {
      "cell_type": "markdown",
      "source": [
        "Ad at index 4 was the clearly the one most selected or highest click through rate. the above Thompson sampling model will just work fine for reduced number of rounds eg for N=1000 and upto N=500. \n",
        "this suggests it is better (more powerful) than UCB."
      ],
      "metadata": {
        "id": "mU9PmO5L57xe"
      }
    }
  ]
}